{
 "cells": [
  {
   "cell_type": "code",
   "execution_count": 14,
   "metadata": {},
   "outputs": [],
   "source": [
    "import numpy as np \n",
    "import pandas as pd\n",
    "import matplotlib.pyplot as plt"
   ]
  },
  {
   "cell_type": "code",
   "execution_count": 15,
   "metadata": {},
   "outputs": [],
   "source": [
    "%matplotlib inline"
   ]
  },
  {
   "cell_type": "code",
   "execution_count": 16,
   "metadata": {},
   "outputs": [],
   "source": [
    "plt.rc(\"font\", size=13)\n",
    "import seaborn as sns\n",
    "sns.set(style=\"white\")\n",
    "sns.set(style=\"whitegrid\", color_codes=True)"
   ]
  },
  {
   "cell_type": "code",
   "execution_count": 17,
   "metadata": {},
   "outputs": [],
   "source": [
    "df_housing = pd.read_csv(\"housing.csv\")"
   ]
  },
  {
   "cell_type": "code",
   "execution_count": 18,
   "metadata": {},
   "outputs": [
    {
     "data": {
      "text/plain": [
       "pandas.core.frame.DataFrame"
      ]
     },
     "execution_count": 18,
     "metadata": {},
     "output_type": "execute_result"
    }
   ],
   "source": [
    "type(df_housing)"
   ]
  },
  {
   "cell_type": "code",
   "execution_count": 19,
   "metadata": {},
   "outputs": [
    {
     "data": {
      "text/html": [
       "<div>\n",
       "<style scoped>\n",
       "    .dataframe tbody tr th:only-of-type {\n",
       "        vertical-align: middle;\n",
       "    }\n",
       "\n",
       "    .dataframe tbody tr th {\n",
       "        vertical-align: top;\n",
       "    }\n",
       "\n",
       "    .dataframe thead th {\n",
       "        text-align: right;\n",
       "    }\n",
       "</style>\n",
       "<table border=\"1\" class=\"dataframe\">\n",
       "  <thead>\n",
       "    <tr style=\"text-align: right;\">\n",
       "      <th></th>\n",
       "      <th>CRIM</th>\n",
       "      <th>ZN</th>\n",
       "      <th>INDUS</th>\n",
       "      <th>CHAS</th>\n",
       "      <th>NOX</th>\n",
       "      <th>RM</th>\n",
       "      <th>AGE</th>\n",
       "      <th>DIS</th>\n",
       "      <th>RAD</th>\n",
       "      <th>TAX</th>\n",
       "      <th>PTRATIO</th>\n",
       "      <th>LSTAT</th>\n",
       "      <th>MEDV</th>\n",
       "      <th>CAT. MEDV</th>\n",
       "    </tr>\n",
       "  </thead>\n",
       "  <tbody>\n",
       "    <tr>\n",
       "      <th>0</th>\n",
       "      <td>0.00632</td>\n",
       "      <td>18.0</td>\n",
       "      <td>2.31</td>\n",
       "      <td>0</td>\n",
       "      <td>0.538</td>\n",
       "      <td>6.575</td>\n",
       "      <td>65.2</td>\n",
       "      <td>4.0900</td>\n",
       "      <td>1</td>\n",
       "      <td>296</td>\n",
       "      <td>15.3</td>\n",
       "      <td>4.98</td>\n",
       "      <td>24.0</td>\n",
       "      <td>0</td>\n",
       "    </tr>\n",
       "    <tr>\n",
       "      <th>1</th>\n",
       "      <td>0.00906</td>\n",
       "      <td>90.0</td>\n",
       "      <td>2.97</td>\n",
       "      <td>0</td>\n",
       "      <td>0.400</td>\n",
       "      <td>7.088</td>\n",
       "      <td>20.8</td>\n",
       "      <td>7.3073</td>\n",
       "      <td>1</td>\n",
       "      <td>285</td>\n",
       "      <td>15.3</td>\n",
       "      <td>7.85</td>\n",
       "      <td>32.2</td>\n",
       "      <td>1</td>\n",
       "    </tr>\n",
       "    <tr>\n",
       "      <th>2</th>\n",
       "      <td>0.01096</td>\n",
       "      <td>55.0</td>\n",
       "      <td>2.25</td>\n",
       "      <td>0</td>\n",
       "      <td>0.389</td>\n",
       "      <td>6.453</td>\n",
       "      <td>31.9</td>\n",
       "      <td>7.3073</td>\n",
       "      <td>1</td>\n",
       "      <td>300</td>\n",
       "      <td>15.3</td>\n",
       "      <td>8.23</td>\n",
       "      <td>22.0</td>\n",
       "      <td>0</td>\n",
       "    </tr>\n",
       "  </tbody>\n",
       "</table>\n",
       "</div>"
      ],
      "text/plain": [
       "      CRIM    ZN  INDUS  CHAS    NOX     RM   AGE     DIS  RAD  TAX  PTRATIO  \\\n",
       "0  0.00632  18.0   2.31     0  0.538  6.575  65.2  4.0900    1  296     15.3   \n",
       "1  0.00906  90.0   2.97     0  0.400  7.088  20.8  7.3073    1  285     15.3   \n",
       "2  0.01096  55.0   2.25     0  0.389  6.453  31.9  7.3073    1  300     15.3   \n",
       "\n",
       "   LSTAT  MEDV  CAT. MEDV  \n",
       "0   4.98  24.0          0  \n",
       "1   7.85  32.2          1  \n",
       "2   8.23  22.0          0  "
      ]
     },
     "execution_count": 19,
     "metadata": {},
     "output_type": "execute_result"
    }
   ],
   "source": [
    "df_housing.head(3)"
   ]
  },
  {
   "cell_type": "code",
   "execution_count": 20,
   "metadata": {},
   "outputs": [
    {
     "data": {
      "text/html": [
       "<div>\n",
       "<style scoped>\n",
       "    .dataframe tbody tr th:only-of-type {\n",
       "        vertical-align: middle;\n",
       "    }\n",
       "\n",
       "    .dataframe tbody tr th {\n",
       "        vertical-align: top;\n",
       "    }\n",
       "\n",
       "    .dataframe thead th {\n",
       "        text-align: right;\n",
       "    }\n",
       "</style>\n",
       "<table border=\"1\" class=\"dataframe\">\n",
       "  <thead>\n",
       "    <tr style=\"text-align: right;\">\n",
       "      <th></th>\n",
       "      <th>CRIM</th>\n",
       "      <th>ZN</th>\n",
       "      <th>INDUS</th>\n",
       "      <th>CHAS</th>\n",
       "      <th>NOX</th>\n",
       "      <th>RM</th>\n",
       "      <th>AGE</th>\n",
       "      <th>DIS</th>\n",
       "      <th>RAD</th>\n",
       "      <th>TAX</th>\n",
       "      <th>PTRATIO</th>\n",
       "      <th>LSTAT</th>\n",
       "      <th>MEDV</th>\n",
       "      <th>CAT. MEDV</th>\n",
       "    </tr>\n",
       "  </thead>\n",
       "  <tbody>\n",
       "    <tr>\n",
       "      <th>503</th>\n",
       "      <td>67.9208</td>\n",
       "      <td>0.0</td>\n",
       "      <td>18.1</td>\n",
       "      <td>0</td>\n",
       "      <td>0.693</td>\n",
       "      <td>5.683</td>\n",
       "      <td>100.0</td>\n",
       "      <td>1.4254</td>\n",
       "      <td>24</td>\n",
       "      <td>666</td>\n",
       "      <td>20.2</td>\n",
       "      <td>22.98</td>\n",
       "      <td>5.0</td>\n",
       "      <td>0</td>\n",
       "    </tr>\n",
       "    <tr>\n",
       "      <th>504</th>\n",
       "      <td>73.5341</td>\n",
       "      <td>0.0</td>\n",
       "      <td>18.1</td>\n",
       "      <td>0</td>\n",
       "      <td>0.679</td>\n",
       "      <td>5.957</td>\n",
       "      <td>100.0</td>\n",
       "      <td>1.8026</td>\n",
       "      <td>24</td>\n",
       "      <td>666</td>\n",
       "      <td>20.2</td>\n",
       "      <td>20.62</td>\n",
       "      <td>8.8</td>\n",
       "      <td>0</td>\n",
       "    </tr>\n",
       "    <tr>\n",
       "      <th>505</th>\n",
       "      <td>88.9762</td>\n",
       "      <td>0.0</td>\n",
       "      <td>18.1</td>\n",
       "      <td>0</td>\n",
       "      <td>0.671</td>\n",
       "      <td>6.968</td>\n",
       "      <td>91.9</td>\n",
       "      <td>1.4165</td>\n",
       "      <td>24</td>\n",
       "      <td>666</td>\n",
       "      <td>20.2</td>\n",
       "      <td>17.21</td>\n",
       "      <td>10.4</td>\n",
       "      <td>0</td>\n",
       "    </tr>\n",
       "  </tbody>\n",
       "</table>\n",
       "</div>"
      ],
      "text/plain": [
       "        CRIM   ZN  INDUS  CHAS    NOX     RM    AGE     DIS  RAD  TAX  \\\n",
       "503  67.9208  0.0   18.1     0  0.693  5.683  100.0  1.4254   24  666   \n",
       "504  73.5341  0.0   18.1     0  0.679  5.957  100.0  1.8026   24  666   \n",
       "505  88.9762  0.0   18.1     0  0.671  6.968   91.9  1.4165   24  666   \n",
       "\n",
       "     PTRATIO  LSTAT  MEDV  CAT. MEDV  \n",
       "503     20.2  22.98   5.0          0  \n",
       "504     20.2  20.62   8.8          0  \n",
       "505     20.2  17.21  10.4          0  "
      ]
     },
     "execution_count": 20,
     "metadata": {},
     "output_type": "execute_result"
    }
   ],
   "source": [
    "df_housing.tail(3)"
   ]
  },
  {
   "cell_type": "code",
   "execution_count": 21,
   "metadata": {},
   "outputs": [
    {
     "data": {
      "text/plain": [
       "(506, 14)"
      ]
     },
     "execution_count": 21,
     "metadata": {},
     "output_type": "execute_result"
    }
   ],
   "source": [
    "df_housing.shape"
   ]
  },
  {
   "cell_type": "code",
   "execution_count": 22,
   "metadata": {},
   "outputs": [
    {
     "data": {
      "text/plain": [
       "count    506.000000\n",
       "mean       3.613524\n",
       "std        8.601545\n",
       "min        0.006320\n",
       "25%        0.082045\n",
       "50%        0.256510\n",
       "75%        3.677083\n",
       "max       88.976200\n",
       "Name: CRIM, dtype: float64"
      ]
     },
     "execution_count": 22,
     "metadata": {},
     "output_type": "execute_result"
    }
   ],
   "source": [
    "df_housing['CRIM'].describe()"
   ]
  },
  {
   "cell_type": "code",
   "execution_count": 23,
   "metadata": {},
   "outputs": [
    {
     "data": {
      "text/html": [
       "<div>\n",
       "<style scoped>\n",
       "    .dataframe tbody tr th:only-of-type {\n",
       "        vertical-align: middle;\n",
       "    }\n",
       "\n",
       "    .dataframe tbody tr th {\n",
       "        vertical-align: top;\n",
       "    }\n",
       "\n",
       "    .dataframe thead th {\n",
       "        text-align: right;\n",
       "    }\n",
       "</style>\n",
       "<table border=\"1\" class=\"dataframe\">\n",
       "  <thead>\n",
       "    <tr style=\"text-align: right;\">\n",
       "      <th></th>\n",
       "      <th>CRIM</th>\n",
       "      <th>ZN</th>\n",
       "      <th>INDUS</th>\n",
       "      <th>CHAS</th>\n",
       "      <th>NOX</th>\n",
       "      <th>RM</th>\n",
       "      <th>AGE</th>\n",
       "      <th>DIS</th>\n",
       "      <th>RAD</th>\n",
       "      <th>TAX</th>\n",
       "      <th>PTRATIO</th>\n",
       "      <th>LSTAT</th>\n",
       "      <th>MEDV</th>\n",
       "      <th>CAT. MEDV</th>\n",
       "    </tr>\n",
       "  </thead>\n",
       "  <tbody>\n",
       "    <tr>\n",
       "      <th>count</th>\n",
       "      <td>506.000000</td>\n",
       "      <td>506.000000</td>\n",
       "      <td>506.000000</td>\n",
       "      <td>506.000000</td>\n",
       "      <td>506.000000</td>\n",
       "      <td>506.000000</td>\n",
       "      <td>506.000000</td>\n",
       "      <td>506.000000</td>\n",
       "      <td>506.000000</td>\n",
       "      <td>506.000000</td>\n",
       "      <td>506.000000</td>\n",
       "      <td>506.000000</td>\n",
       "      <td>506.000000</td>\n",
       "      <td>506.000000</td>\n",
       "    </tr>\n",
       "    <tr>\n",
       "      <th>mean</th>\n",
       "      <td>3.613524</td>\n",
       "      <td>11.363636</td>\n",
       "      <td>11.136779</td>\n",
       "      <td>0.069170</td>\n",
       "      <td>0.554695</td>\n",
       "      <td>6.284634</td>\n",
       "      <td>68.574901</td>\n",
       "      <td>3.795043</td>\n",
       "      <td>9.549407</td>\n",
       "      <td>408.237154</td>\n",
       "      <td>18.455534</td>\n",
       "      <td>12.653063</td>\n",
       "      <td>22.532806</td>\n",
       "      <td>0.166008</td>\n",
       "    </tr>\n",
       "    <tr>\n",
       "      <th>std</th>\n",
       "      <td>8.601545</td>\n",
       "      <td>23.322453</td>\n",
       "      <td>6.860353</td>\n",
       "      <td>0.253994</td>\n",
       "      <td>0.115878</td>\n",
       "      <td>0.702617</td>\n",
       "      <td>28.148861</td>\n",
       "      <td>2.105710</td>\n",
       "      <td>8.707259</td>\n",
       "      <td>168.537116</td>\n",
       "      <td>2.164946</td>\n",
       "      <td>7.141062</td>\n",
       "      <td>9.197104</td>\n",
       "      <td>0.372456</td>\n",
       "    </tr>\n",
       "    <tr>\n",
       "      <th>min</th>\n",
       "      <td>0.006320</td>\n",
       "      <td>0.000000</td>\n",
       "      <td>0.460000</td>\n",
       "      <td>0.000000</td>\n",
       "      <td>0.385000</td>\n",
       "      <td>3.561000</td>\n",
       "      <td>2.900000</td>\n",
       "      <td>1.129600</td>\n",
       "      <td>1.000000</td>\n",
       "      <td>187.000000</td>\n",
       "      <td>12.600000</td>\n",
       "      <td>1.730000</td>\n",
       "      <td>5.000000</td>\n",
       "      <td>0.000000</td>\n",
       "    </tr>\n",
       "    <tr>\n",
       "      <th>25%</th>\n",
       "      <td>0.082045</td>\n",
       "      <td>0.000000</td>\n",
       "      <td>5.190000</td>\n",
       "      <td>0.000000</td>\n",
       "      <td>0.449000</td>\n",
       "      <td>5.885500</td>\n",
       "      <td>45.025000</td>\n",
       "      <td>2.100175</td>\n",
       "      <td>4.000000</td>\n",
       "      <td>279.000000</td>\n",
       "      <td>17.400000</td>\n",
       "      <td>6.950000</td>\n",
       "      <td>17.025000</td>\n",
       "      <td>0.000000</td>\n",
       "    </tr>\n",
       "    <tr>\n",
       "      <th>50%</th>\n",
       "      <td>0.256510</td>\n",
       "      <td>0.000000</td>\n",
       "      <td>9.690000</td>\n",
       "      <td>0.000000</td>\n",
       "      <td>0.538000</td>\n",
       "      <td>6.208500</td>\n",
       "      <td>77.500000</td>\n",
       "      <td>3.207450</td>\n",
       "      <td>5.000000</td>\n",
       "      <td>330.000000</td>\n",
       "      <td>19.050000</td>\n",
       "      <td>11.360000</td>\n",
       "      <td>21.200000</td>\n",
       "      <td>0.000000</td>\n",
       "    </tr>\n",
       "    <tr>\n",
       "      <th>75%</th>\n",
       "      <td>3.677083</td>\n",
       "      <td>12.500000</td>\n",
       "      <td>18.100000</td>\n",
       "      <td>0.000000</td>\n",
       "      <td>0.624000</td>\n",
       "      <td>6.623500</td>\n",
       "      <td>94.075000</td>\n",
       "      <td>5.188425</td>\n",
       "      <td>24.000000</td>\n",
       "      <td>666.000000</td>\n",
       "      <td>20.200000</td>\n",
       "      <td>16.955000</td>\n",
       "      <td>25.000000</td>\n",
       "      <td>0.000000</td>\n",
       "    </tr>\n",
       "    <tr>\n",
       "      <th>max</th>\n",
       "      <td>88.976200</td>\n",
       "      <td>100.000000</td>\n",
       "      <td>27.740000</td>\n",
       "      <td>1.000000</td>\n",
       "      <td>0.871000</td>\n",
       "      <td>8.780000</td>\n",
       "      <td>100.000000</td>\n",
       "      <td>12.126500</td>\n",
       "      <td>24.000000</td>\n",
       "      <td>711.000000</td>\n",
       "      <td>22.000000</td>\n",
       "      <td>37.970000</td>\n",
       "      <td>50.000000</td>\n",
       "      <td>1.000000</td>\n",
       "    </tr>\n",
       "  </tbody>\n",
       "</table>\n",
       "</div>"
      ],
      "text/plain": [
       "             CRIM          ZN       INDUS        CHAS         NOX          RM  \\\n",
       "count  506.000000  506.000000  506.000000  506.000000  506.000000  506.000000   \n",
       "mean     3.613524   11.363636   11.136779    0.069170    0.554695    6.284634   \n",
       "std      8.601545   23.322453    6.860353    0.253994    0.115878    0.702617   \n",
       "min      0.006320    0.000000    0.460000    0.000000    0.385000    3.561000   \n",
       "25%      0.082045    0.000000    5.190000    0.000000    0.449000    5.885500   \n",
       "50%      0.256510    0.000000    9.690000    0.000000    0.538000    6.208500   \n",
       "75%      3.677083   12.500000   18.100000    0.000000    0.624000    6.623500   \n",
       "max     88.976200  100.000000   27.740000    1.000000    0.871000    8.780000   \n",
       "\n",
       "              AGE         DIS         RAD         TAX     PTRATIO       LSTAT  \\\n",
       "count  506.000000  506.000000  506.000000  506.000000  506.000000  506.000000   \n",
       "mean    68.574901    3.795043    9.549407  408.237154   18.455534   12.653063   \n",
       "std     28.148861    2.105710    8.707259  168.537116    2.164946    7.141062   \n",
       "min      2.900000    1.129600    1.000000  187.000000   12.600000    1.730000   \n",
       "25%     45.025000    2.100175    4.000000  279.000000   17.400000    6.950000   \n",
       "50%     77.500000    3.207450    5.000000  330.000000   19.050000   11.360000   \n",
       "75%     94.075000    5.188425   24.000000  666.000000   20.200000   16.955000   \n",
       "max    100.000000   12.126500   24.000000  711.000000   22.000000   37.970000   \n",
       "\n",
       "             MEDV   CAT. MEDV  \n",
       "count  506.000000  506.000000  \n",
       "mean    22.532806    0.166008  \n",
       "std      9.197104    0.372456  \n",
       "min      5.000000    0.000000  \n",
       "25%     17.025000    0.000000  \n",
       "50%     21.200000    0.000000  \n",
       "75%     25.000000    0.000000  \n",
       "max     50.000000    1.000000  "
      ]
     },
     "execution_count": 23,
     "metadata": {},
     "output_type": "execute_result"
    }
   ],
   "source": [
    "df_housing.describe()"
   ]
  },
  {
   "cell_type": "code",
   "execution_count": 24,
   "metadata": {},
   "outputs": [
    {
     "data": {
      "text/plain": [
       "(506, 14)"
      ]
     },
     "execution_count": 24,
     "metadata": {},
     "output_type": "execute_result"
    }
   ],
   "source": [
    "df_housing.shape"
   ]
  },
  {
   "cell_type": "code",
   "execution_count": 25,
   "metadata": {},
   "outputs": [
    {
     "data": {
      "text/html": [
       "<div>\n",
       "<style scoped>\n",
       "    .dataframe tbody tr th:only-of-type {\n",
       "        vertical-align: middle;\n",
       "    }\n",
       "\n",
       "    .dataframe tbody tr th {\n",
       "        vertical-align: top;\n",
       "    }\n",
       "\n",
       "    .dataframe thead th {\n",
       "        text-align: right;\n",
       "    }\n",
       "</style>\n",
       "<table border=\"1\" class=\"dataframe\">\n",
       "  <thead>\n",
       "    <tr style=\"text-align: right;\">\n",
       "      <th></th>\n",
       "      <th>CRIM</th>\n",
       "      <th>ZN</th>\n",
       "      <th>INDUS</th>\n",
       "      <th>CHAS</th>\n",
       "      <th>NOX</th>\n",
       "      <th>RM</th>\n",
       "      <th>AGE</th>\n",
       "      <th>DIS</th>\n",
       "      <th>RAD</th>\n",
       "      <th>TAX</th>\n",
       "      <th>PTRATIO</th>\n",
       "      <th>LSTAT</th>\n",
       "      <th>MEDV</th>\n",
       "      <th>CAT. MEDV</th>\n",
       "    </tr>\n",
       "  </thead>\n",
       "  <tbody>\n",
       "    <tr>\n",
       "      <th>CRIM</th>\n",
       "      <td>1.000000</td>\n",
       "      <td>-0.571660</td>\n",
       "      <td>0.735524</td>\n",
       "      <td>0.041537</td>\n",
       "      <td>0.821465</td>\n",
       "      <td>-0.309116</td>\n",
       "      <td>0.704140</td>\n",
       "      <td>-0.744986</td>\n",
       "      <td>0.727807</td>\n",
       "      <td>0.729045</td>\n",
       "      <td>0.465283</td>\n",
       "      <td>0.634760</td>\n",
       "      <td>-0.558891</td>\n",
       "      <td>-0.238406</td>\n",
       "    </tr>\n",
       "    <tr>\n",
       "      <th>ZN</th>\n",
       "      <td>-0.571660</td>\n",
       "      <td>1.000000</td>\n",
       "      <td>-0.642811</td>\n",
       "      <td>-0.041937</td>\n",
       "      <td>-0.634828</td>\n",
       "      <td>0.361074</td>\n",
       "      <td>-0.544423</td>\n",
       "      <td>0.614627</td>\n",
       "      <td>-0.278767</td>\n",
       "      <td>-0.371394</td>\n",
       "      <td>-0.448475</td>\n",
       "      <td>-0.490074</td>\n",
       "      <td>0.438179</td>\n",
       "      <td>0.359369</td>\n",
       "    </tr>\n",
       "    <tr>\n",
       "      <th>INDUS</th>\n",
       "      <td>0.735524</td>\n",
       "      <td>-0.642811</td>\n",
       "      <td>1.000000</td>\n",
       "      <td>0.089841</td>\n",
       "      <td>0.791189</td>\n",
       "      <td>-0.415301</td>\n",
       "      <td>0.679487</td>\n",
       "      <td>-0.757080</td>\n",
       "      <td>0.455507</td>\n",
       "      <td>0.664361</td>\n",
       "      <td>0.433710</td>\n",
       "      <td>0.638747</td>\n",
       "      <td>-0.578255</td>\n",
       "      <td>-0.401032</td>\n",
       "    </tr>\n",
       "    <tr>\n",
       "      <th>CHAS</th>\n",
       "      <td>0.041537</td>\n",
       "      <td>-0.041937</td>\n",
       "      <td>0.089841</td>\n",
       "      <td>1.000000</td>\n",
       "      <td>0.068426</td>\n",
       "      <td>0.058813</td>\n",
       "      <td>0.067792</td>\n",
       "      <td>-0.080248</td>\n",
       "      <td>0.024579</td>\n",
       "      <td>-0.044486</td>\n",
       "      <td>-0.136065</td>\n",
       "      <td>-0.050575</td>\n",
       "      <td>0.140612</td>\n",
       "      <td>0.108631</td>\n",
       "    </tr>\n",
       "    <tr>\n",
       "      <th>NOX</th>\n",
       "      <td>0.821465</td>\n",
       "      <td>-0.634828</td>\n",
       "      <td>0.791189</td>\n",
       "      <td>0.068426</td>\n",
       "      <td>1.000000</td>\n",
       "      <td>-0.310344</td>\n",
       "      <td>0.795153</td>\n",
       "      <td>-0.880015</td>\n",
       "      <td>0.586429</td>\n",
       "      <td>0.649527</td>\n",
       "      <td>0.391309</td>\n",
       "      <td>0.636828</td>\n",
       "      <td>-0.562609</td>\n",
       "      <td>-0.248244</td>\n",
       "    </tr>\n",
       "    <tr>\n",
       "      <th>RM</th>\n",
       "      <td>-0.309116</td>\n",
       "      <td>0.361074</td>\n",
       "      <td>-0.415301</td>\n",
       "      <td>0.058813</td>\n",
       "      <td>-0.310344</td>\n",
       "      <td>1.000000</td>\n",
       "      <td>-0.278082</td>\n",
       "      <td>0.263168</td>\n",
       "      <td>-0.107492</td>\n",
       "      <td>-0.271898</td>\n",
       "      <td>-0.312923</td>\n",
       "      <td>-0.640832</td>\n",
       "      <td>0.633576</td>\n",
       "      <td>0.579953</td>\n",
       "    </tr>\n",
       "    <tr>\n",
       "      <th>AGE</th>\n",
       "      <td>0.704140</td>\n",
       "      <td>-0.544423</td>\n",
       "      <td>0.679487</td>\n",
       "      <td>0.067792</td>\n",
       "      <td>0.795153</td>\n",
       "      <td>-0.278082</td>\n",
       "      <td>1.000000</td>\n",
       "      <td>-0.801610</td>\n",
       "      <td>0.417983</td>\n",
       "      <td>0.526366</td>\n",
       "      <td>0.355384</td>\n",
       "      <td>0.657071</td>\n",
       "      <td>-0.547562</td>\n",
       "      <td>-0.188613</td>\n",
       "    </tr>\n",
       "    <tr>\n",
       "      <th>DIS</th>\n",
       "      <td>-0.744986</td>\n",
       "      <td>0.614627</td>\n",
       "      <td>-0.757080</td>\n",
       "      <td>-0.080248</td>\n",
       "      <td>-0.880015</td>\n",
       "      <td>0.263168</td>\n",
       "      <td>-0.801610</td>\n",
       "      <td>1.000000</td>\n",
       "      <td>-0.495806</td>\n",
       "      <td>-0.574336</td>\n",
       "      <td>-0.322041</td>\n",
       "      <td>-0.564262</td>\n",
       "      <td>0.445857</td>\n",
       "      <td>0.127176</td>\n",
       "    </tr>\n",
       "    <tr>\n",
       "      <th>RAD</th>\n",
       "      <td>0.727807</td>\n",
       "      <td>-0.278767</td>\n",
       "      <td>0.455507</td>\n",
       "      <td>0.024579</td>\n",
       "      <td>0.586429</td>\n",
       "      <td>-0.107492</td>\n",
       "      <td>0.417983</td>\n",
       "      <td>-0.495806</td>\n",
       "      <td>1.000000</td>\n",
       "      <td>0.704876</td>\n",
       "      <td>0.318330</td>\n",
       "      <td>0.394322</td>\n",
       "      <td>-0.346776</td>\n",
       "      <td>-0.153377</td>\n",
       "    </tr>\n",
       "    <tr>\n",
       "      <th>TAX</th>\n",
       "      <td>0.729045</td>\n",
       "      <td>-0.371394</td>\n",
       "      <td>0.664361</td>\n",
       "      <td>-0.044486</td>\n",
       "      <td>0.649527</td>\n",
       "      <td>-0.271898</td>\n",
       "      <td>0.526366</td>\n",
       "      <td>-0.574336</td>\n",
       "      <td>0.704876</td>\n",
       "      <td>1.000000</td>\n",
       "      <td>0.453345</td>\n",
       "      <td>0.534423</td>\n",
       "      <td>-0.562411</td>\n",
       "      <td>-0.310012</td>\n",
       "    </tr>\n",
       "    <tr>\n",
       "      <th>PTRATIO</th>\n",
       "      <td>0.465283</td>\n",
       "      <td>-0.448475</td>\n",
       "      <td>0.433710</td>\n",
       "      <td>-0.136065</td>\n",
       "      <td>0.391309</td>\n",
       "      <td>-0.312923</td>\n",
       "      <td>0.355384</td>\n",
       "      <td>-0.322041</td>\n",
       "      <td>0.318330</td>\n",
       "      <td>0.453345</td>\n",
       "      <td>1.000000</td>\n",
       "      <td>0.467259</td>\n",
       "      <td>-0.555905</td>\n",
       "      <td>-0.411600</td>\n",
       "    </tr>\n",
       "    <tr>\n",
       "      <th>LSTAT</th>\n",
       "      <td>0.634760</td>\n",
       "      <td>-0.490074</td>\n",
       "      <td>0.638747</td>\n",
       "      <td>-0.050575</td>\n",
       "      <td>0.636828</td>\n",
       "      <td>-0.640832</td>\n",
       "      <td>0.657071</td>\n",
       "      <td>-0.564262</td>\n",
       "      <td>0.394322</td>\n",
       "      <td>0.534423</td>\n",
       "      <td>0.467259</td>\n",
       "      <td>1.000000</td>\n",
       "      <td>-0.852914</td>\n",
       "      <td>-0.559263</td>\n",
       "    </tr>\n",
       "    <tr>\n",
       "      <th>MEDV</th>\n",
       "      <td>-0.558891</td>\n",
       "      <td>0.438179</td>\n",
       "      <td>-0.578255</td>\n",
       "      <td>0.140612</td>\n",
       "      <td>-0.562609</td>\n",
       "      <td>0.633576</td>\n",
       "      <td>-0.547562</td>\n",
       "      <td>0.445857</td>\n",
       "      <td>-0.346776</td>\n",
       "      <td>-0.562411</td>\n",
       "      <td>-0.555905</td>\n",
       "      <td>-0.852914</td>\n",
       "      <td>1.000000</td>\n",
       "      <td>0.644500</td>\n",
       "    </tr>\n",
       "    <tr>\n",
       "      <th>CAT. MEDV</th>\n",
       "      <td>-0.238406</td>\n",
       "      <td>0.359369</td>\n",
       "      <td>-0.401032</td>\n",
       "      <td>0.108631</td>\n",
       "      <td>-0.248244</td>\n",
       "      <td>0.579953</td>\n",
       "      <td>-0.188613</td>\n",
       "      <td>0.127176</td>\n",
       "      <td>-0.153377</td>\n",
       "      <td>-0.310012</td>\n",
       "      <td>-0.411600</td>\n",
       "      <td>-0.559263</td>\n",
       "      <td>0.644500</td>\n",
       "      <td>1.000000</td>\n",
       "    </tr>\n",
       "  </tbody>\n",
       "</table>\n",
       "</div>"
      ],
      "text/plain": [
       "               CRIM        ZN     INDUS      CHAS       NOX        RM  \\\n",
       "CRIM       1.000000 -0.571660  0.735524  0.041537  0.821465 -0.309116   \n",
       "ZN        -0.571660  1.000000 -0.642811 -0.041937 -0.634828  0.361074   \n",
       "INDUS      0.735524 -0.642811  1.000000  0.089841  0.791189 -0.415301   \n",
       "CHAS       0.041537 -0.041937  0.089841  1.000000  0.068426  0.058813   \n",
       "NOX        0.821465 -0.634828  0.791189  0.068426  1.000000 -0.310344   \n",
       "RM        -0.309116  0.361074 -0.415301  0.058813 -0.310344  1.000000   \n",
       "AGE        0.704140 -0.544423  0.679487  0.067792  0.795153 -0.278082   \n",
       "DIS       -0.744986  0.614627 -0.757080 -0.080248 -0.880015  0.263168   \n",
       "RAD        0.727807 -0.278767  0.455507  0.024579  0.586429 -0.107492   \n",
       "TAX        0.729045 -0.371394  0.664361 -0.044486  0.649527 -0.271898   \n",
       "PTRATIO    0.465283 -0.448475  0.433710 -0.136065  0.391309 -0.312923   \n",
       "LSTAT      0.634760 -0.490074  0.638747 -0.050575  0.636828 -0.640832   \n",
       "MEDV      -0.558891  0.438179 -0.578255  0.140612 -0.562609  0.633576   \n",
       "CAT. MEDV -0.238406  0.359369 -0.401032  0.108631 -0.248244  0.579953   \n",
       "\n",
       "                AGE       DIS       RAD       TAX   PTRATIO     LSTAT  \\\n",
       "CRIM       0.704140 -0.744986  0.727807  0.729045  0.465283  0.634760   \n",
       "ZN        -0.544423  0.614627 -0.278767 -0.371394 -0.448475 -0.490074   \n",
       "INDUS      0.679487 -0.757080  0.455507  0.664361  0.433710  0.638747   \n",
       "CHAS       0.067792 -0.080248  0.024579 -0.044486 -0.136065 -0.050575   \n",
       "NOX        0.795153 -0.880015  0.586429  0.649527  0.391309  0.636828   \n",
       "RM        -0.278082  0.263168 -0.107492 -0.271898 -0.312923 -0.640832   \n",
       "AGE        1.000000 -0.801610  0.417983  0.526366  0.355384  0.657071   \n",
       "DIS       -0.801610  1.000000 -0.495806 -0.574336 -0.322041 -0.564262   \n",
       "RAD        0.417983 -0.495806  1.000000  0.704876  0.318330  0.394322   \n",
       "TAX        0.526366 -0.574336  0.704876  1.000000  0.453345  0.534423   \n",
       "PTRATIO    0.355384 -0.322041  0.318330  0.453345  1.000000  0.467259   \n",
       "LSTAT      0.657071 -0.564262  0.394322  0.534423  0.467259  1.000000   \n",
       "MEDV      -0.547562  0.445857 -0.346776 -0.562411 -0.555905 -0.852914   \n",
       "CAT. MEDV -0.188613  0.127176 -0.153377 -0.310012 -0.411600 -0.559263   \n",
       "\n",
       "               MEDV  CAT. MEDV  \n",
       "CRIM      -0.558891  -0.238406  \n",
       "ZN         0.438179   0.359369  \n",
       "INDUS     -0.578255  -0.401032  \n",
       "CHAS       0.140612   0.108631  \n",
       "NOX       -0.562609  -0.248244  \n",
       "RM         0.633576   0.579953  \n",
       "AGE       -0.547562  -0.188613  \n",
       "DIS        0.445857   0.127176  \n",
       "RAD       -0.346776  -0.153377  \n",
       "TAX       -0.562411  -0.310012  \n",
       "PTRATIO   -0.555905  -0.411600  \n",
       "LSTAT     -0.852914  -0.559263  \n",
       "MEDV       1.000000   0.644500  \n",
       "CAT. MEDV  0.644500   1.000000  "
      ]
     },
     "execution_count": 25,
     "metadata": {},
     "output_type": "execute_result"
    }
   ],
   "source": [
    "df_housing.corr(method = 'spearman')"
   ]
  },
  {
   "cell_type": "code",
   "execution_count": 26,
   "metadata": {},
   "outputs": [],
   "source": [
    "import statsmodels.formula.api as smf\n",
    "from scipy import stats"
   ]
  },
  {
   "cell_type": "code",
   "execution_count": 27,
   "metadata": {},
   "outputs": [
    {
     "data": {
      "image/png": "[encoded data removed]",
      "text/plain": [
       "<Figure size 432x288 with 1 Axes>"
      ]
     },
     "metadata": {},
     "output_type": "display_data"
    }
   ],
   "source": [
    "plt.scatter(df_housing['RAD'], df_housing['CRIM'])\n",
    "x = df_housing['RAD']\n",
    "y = df_housing['CRIM']\n",
    "z = np.polyfit(x, y, 1)\n",
    "p = np.poly1d(z)\n",
    "plt.plot(x,p(x),\"r--\")\n",
    "plt.show()"
   ]
  },
  {
   "cell_type": "code",
   "execution_count": 29,
   "metadata": {},
   "outputs": [
    {
     "data": {
      "image/png": "[encoded data removed]",
      "text/plain": [
       "<Figure size 432x288 with 1 Axes>"
      ]
     },
     "metadata": {},
     "output_type": "display_data"
    }
   ],
   "source": [
    "plt.scatter(df_housing['LSTAT'], df_housing['CRIM'])\n",
    "x = df_housing['LSTAT']\n",
    "y = df_housing['CRIM']\n",
    "z = np.polyfit(x, y, 1)\n",
    "p = np.poly1d(z)\n",
    "plt.plot(x,p(x),\"r--\")\n",
    "plt.show()"
   ]
  },
  {
   "cell_type": "code",
   "execution_count": 30,
   "metadata": {},
   "outputs": [
    {
     "data": {
      "text/html": [
       "<table class=\"simpletable\">\n",
       "<caption>OLS Regression Results</caption>\n",
       "<tr>\n",
       "  <th>Dep. Variable:</th>          <td>CRIM</td>       <th>  R-squared:         </th> <td>   0.421</td>\n",
       "</tr>\n",
       "<tr>\n",
       "  <th>Model:</th>                   <td>OLS</td>       <th>  Adj. R-squared:    </th> <td>   0.418</td>\n",
       "</tr>\n",
       "<tr>\n",
       "  <th>Method:</th>             <td>Least Squares</td>  <th>  F-statistic:       </th> <td>   182.7</td>\n",
       "</tr>\n",
       "<tr>\n",
       "  <th>Date:</th>             <td>Tue, 11 Oct 2022</td> <th>  Prob (F-statistic):</th> <td>2.25e-60</td>\n",
       "</tr>\n",
       "<tr>\n",
       "  <th>Time:</th>                 <td>16:13:02</td>     <th>  Log-Likelihood:    </th> <td> -1668.2</td>\n",
       "</tr>\n",
       "<tr>\n",
       "  <th>No. Observations:</th>      <td>   506</td>      <th>  AIC:               </th> <td>   3342.</td>\n",
       "</tr>\n",
       "<tr>\n",
       "  <th>Df Residuals:</th>          <td>   503</td>      <th>  BIC:               </th> <td>   3355.</td>\n",
       "</tr>\n",
       "<tr>\n",
       "  <th>Df Model:</th>              <td>     2</td>      <th>                     </th>     <td> </td>   \n",
       "</tr>\n",
       "<tr>\n",
       "  <th>Covariance Type:</th>      <td>nonrobust</td>    <th>                     </th>     <td> </td>   \n",
       "</tr>\n",
       "</table>\n",
       "<table class=\"simpletable\">\n",
       "<tr>\n",
       "      <td></td>         <th>coef</th>     <th>std err</th>      <th>t</th>      <th>P>|t|</th>  <th>[0.025</th>    <th>0.975]</th>  \n",
       "</tr>\n",
       "<tr>\n",
       "  <th>Intercept</th> <td>   -4.3814</td> <td>    0.599</td> <td>   -7.318</td> <td> 0.000</td> <td>   -5.558</td> <td>   -3.205</td>\n",
       "</tr>\n",
       "<tr>\n",
       "  <th>RAD</th>       <td>    0.5228</td> <td>    0.038</td> <td>   13.607</td> <td> 0.000</td> <td>    0.447</td> <td>    0.598</td>\n",
       "</tr>\n",
       "<tr>\n",
       "  <th>LSTAT</th>     <td>    0.2373</td> <td>    0.047</td> <td>    5.065</td> <td> 0.000</td> <td>    0.145</td> <td>    0.329</td>\n",
       "</tr>\n",
       "</table>\n",
       "<table class=\"simpletable\">\n",
       "<tr>\n",
       "  <th>Omnibus:</th>       <td>678.528</td> <th>  Durbin-Watson:     </th> <td>   0.136</td> \n",
       "</tr>\n",
       "<tr>\n",
       "  <th>Prob(Omnibus):</th> <td> 0.000</td>  <th>  Jarque-Bera (JB):  </th> <td>89254.393</td>\n",
       "</tr>\n",
       "<tr>\n",
       "  <th>Skew:</th>          <td> 6.831</td>  <th>  Prob(JB):          </th> <td>    0.00</td> \n",
       "</tr>\n",
       "<tr>\n",
       "  <th>Kurtosis:</th>      <td>66.614</td>  <th>  Cond. No.          </th> <td>    38.1</td> \n",
       "</tr>\n",
       "</table><br/><br/>Notes:<br/>[1] Standard Errors assume that the covariance matrix of the errors is correctly specified."
      ],
      "text/plain": [
       "<class 'statsmodels.iolib.summary.Summary'>\n",
       "\"\"\"\n",
       "                            OLS Regression Results                            \n",
       "==============================================================================\n",
       "Dep. Variable:                   CRIM   R-squared:                       0.421\n",
       "Model:                            OLS   Adj. R-squared:                  0.418\n",
       "Method:                 Least Squares   F-statistic:                     182.7\n",
       "Date:                Tue, 11 Oct 2022   Prob (F-statistic):           2.25e-60\n",
       "Time:                        16:13:02   Log-Likelihood:                -1668.2\n",
       "No. Observations:                 506   AIC:                             3342.\n",
       "Df Residuals:                     503   BIC:                             3355.\n",
       "Df Model:                           2                                         \n",
       "Covariance Type:            nonrobust                                         \n",
       "==============================================================================\n",
       "                 coef    std err          t      P>|t|      [0.025      0.975]\n",
       "------------------------------------------------------------------------------\n",
       "Intercept     -4.3814      0.599     -7.318      0.000      -5.558      -3.205\n",
       "RAD            0.5228      0.038     13.607      0.000       0.447       0.598\n",
       "LSTAT          0.2373      0.047      5.065      0.000       0.145       0.329\n",
       "==============================================================================\n",
       "Omnibus:                      678.528   Durbin-Watson:                   0.136\n",
       "Prob(Omnibus):                  0.000   Jarque-Bera (JB):            89254.393\n",
       "Skew:                           6.831   Prob(JB):                         0.00\n",
       "Kurtosis:                      66.614   Cond. No.                         38.1\n",
       "==============================================================================\n",
       "\n",
       "Notes:\n",
       "[1] Standard Errors assume that the covariance matrix of the errors is correctly specified.\n",
       "\"\"\""
      ]
     },
     "execution_count": 30,
     "metadata": {},
     "output_type": "execute_result"
    }
   ],
   "source": [
    "crim_model = smf.ols(\"CRIM ~ RAD + LSTAT\", data= df_housing).fit()\n",
    "crim_model.summary()"
   ]
  },
  {
   "cell_type": "markdown",
   "metadata": {},
   "source": [
    "## Let us Examine the presence of Multicollinearity"
   ]
  },
  {
   "cell_type": "code",
   "execution_count": 33,
   "metadata": {},
   "outputs": [
    {
     "data": {
      "text/plain": [
       "[4.215901454185285, 1.3137230570890797, 1.3137230570890797]"
      ]
     },
     "execution_count": 33,
     "metadata": {},
     "output_type": "execute_result"
    }
   ],
   "source": [
    "from statsmodels.stats.outliers_influence import variance_inflation_factor\n",
    "\n",
    "variables = crim_model.model.exog\n",
    "vif = [variance_inflation_factor(variables, i) for i in range(variables.shape[1])]\n",
    "vif \n"
   ]
  },
  {
   "cell_type": "code",
   "execution_count": 34,
   "metadata": {},
   "outputs": [
    {
     "data": {
      "text/plain": [
       "2.281115856121148"
      ]
     },
     "execution_count": 34,
     "metadata": {},
     "output_type": "execute_result"
    }
   ],
   "source": [
    "np.array(vif).mean()"
   ]
  },
  {
   "cell_type": "markdown",
   "metadata": {},
   "source": [
    "## Try some tabulations to make sense of data ranges"
   ]
  },
  {
   "cell_type": "code",
   "execution_count": 35,
   "metadata": {},
   "outputs": [
    {
     "data": {
      "text/html": [
       "<div>\n",
       "<style scoped>\n",
       "    .dataframe tbody tr th:only-of-type {\n",
       "        vertical-align: middle;\n",
       "    }\n",
       "\n",
       "    .dataframe tbody tr th {\n",
       "        vertical-align: top;\n",
       "    }\n",
       "\n",
       "    .dataframe thead th {\n",
       "        text-align: right;\n",
       "    }\n",
       "</style>\n",
       "<table border=\"1\" class=\"dataframe\">\n",
       "  <thead>\n",
       "    <tr style=\"text-align: right;\">\n",
       "      <th></th>\n",
       "      <th>CHAS</th>\n",
       "      <th>median</th>\n",
       "    </tr>\n",
       "  </thead>\n",
       "  <tbody>\n",
       "    <tr>\n",
       "      <th>0</th>\n",
       "      <td>0</td>\n",
       "      <td>20.9</td>\n",
       "    </tr>\n",
       "    <tr>\n",
       "      <th>1</th>\n",
       "      <td>1</td>\n",
       "      <td>23.3</td>\n",
       "    </tr>\n",
       "  </tbody>\n",
       "</table>\n",
       "</div>"
      ],
      "text/plain": [
       "   CHAS  median\n",
       "0     0    20.9\n",
       "1     1    23.3"
      ]
     },
     "execution_count": 35,
     "metadata": {},
     "output_type": "execute_result"
    }
   ],
   "source": [
    "MedianVal_byCHAS_df = df_housing.groupby('CHAS')[\"MEDV\"].agg([\"median\"]).reset_index() \n",
    "MedianVal_byCHAS_df"
   ]
  },
  {
   "cell_type": "code",
   "execution_count": 20,
   "metadata": {},
   "outputs": [
    {
     "data": {
      "text/html": [
       "<table class=\"simpletable\">\n",
       "<caption>OLS Regression Results</caption>\n",
       "<tr>\n",
       "  <th>Dep. Variable:</th>          <td>MEDV</td>       <th>  R-squared:         </th> <td>   0.697</td> \n",
       "</tr>\n",
       "<tr>\n",
       "  <th>Model:</th>                   <td>OLS</td>       <th>  Adj. R-squared:    </th> <td>   0.694</td> \n",
       "</tr>\n",
       "<tr>\n",
       "  <th>Method:</th>             <td>Least Squares</td>  <th>  F-statistic:       </th> <td>   229.6</td> \n",
       "</tr>\n",
       "<tr>\n",
       "  <th>Date:</th>             <td>Tue, 11 Oct 2022</td> <th>  Prob (F-statistic):</th> <td>5.72e-127</td>\n",
       "</tr>\n",
       "<tr>\n",
       "  <th>Time:</th>                 <td>14:50:46</td>     <th>  Log-Likelihood:    </th> <td> -1538.5</td> \n",
       "</tr>\n",
       "<tr>\n",
       "  <th>No. Observations:</th>      <td>   506</td>      <th>  AIC:               </th> <td>   3089.</td> \n",
       "</tr>\n",
       "<tr>\n",
       "  <th>Df Residuals:</th>          <td>   500</td>      <th>  BIC:               </th> <td>   3114.</td> \n",
       "</tr>\n",
       "<tr>\n",
       "  <th>Df Model:</th>              <td>     5</td>      <th>                     </th>     <td> </td>    \n",
       "</tr>\n",
       "<tr>\n",
       "  <th>Covariance Type:</th>      <td>nonrobust</td>    <th>                     </th>     <td> </td>    \n",
       "</tr>\n",
       "</table>\n",
       "<table class=\"simpletable\">\n",
       "<tr>\n",
       "      <td></td>         <th>coef</th>     <th>std err</th>      <th>t</th>      <th>P>|t|</th>  <th>[0.025</th>    <th>0.975]</th>  \n",
       "</tr>\n",
       "<tr>\n",
       "  <th>Intercept</th> <td>   23.4669</td> <td>    4.053</td> <td>    5.790</td> <td> 0.000</td> <td>   15.504</td> <td>   31.429</td>\n",
       "</tr>\n",
       "<tr>\n",
       "  <th>RM</th>        <td>    4.1797</td> <td>    0.420</td> <td>    9.948</td> <td> 0.000</td> <td>    3.354</td> <td>    5.005</td>\n",
       "</tr>\n",
       "<tr>\n",
       "  <th>CHAS</th>      <td>    2.9225</td> <td>    0.910</td> <td>    3.212</td> <td> 0.001</td> <td>    1.135</td> <td>    4.710</td>\n",
       "</tr>\n",
       "<tr>\n",
       "  <th>DIS</th>       <td>   -0.4923</td> <td>    0.127</td> <td>   -3.871</td> <td> 0.000</td> <td>   -0.742</td> <td>   -0.242</td>\n",
       "</tr>\n",
       "<tr>\n",
       "  <th>LSTAT</th>     <td>   -0.6585</td> <td>    0.046</td> <td>  -14.198</td> <td> 0.000</td> <td>   -0.750</td> <td>   -0.567</td>\n",
       "</tr>\n",
       "<tr>\n",
       "  <th>PTRATIO</th>   <td>   -0.9322</td> <td>    0.116</td> <td>   -8.058</td> <td> 0.000</td> <td>   -1.159</td> <td>   -0.705</td>\n",
       "</tr>\n",
       "</table>\n",
       "<table class=\"simpletable\">\n",
       "<tr>\n",
       "  <th>Omnibus:</th>       <td>150.602</td> <th>  Durbin-Watson:     </th> <td>   2.013</td> \n",
       "</tr>\n",
       "<tr>\n",
       "  <th>Prob(Omnibus):</th> <td> 0.000</td>  <th>  Jarque-Bera (JB):  </th> <td> 593.117</td> \n",
       "</tr>\n",
       "<tr>\n",
       "  <th>Skew:</th>          <td> 1.302</td>  <th>  Prob(JB):          </th> <td>1.61e-129</td>\n",
       "</tr>\n",
       "<tr>\n",
       "  <th>Kurtosis:</th>      <td> 7.621</td>  <th>  Cond. No.          </th> <td>    432.</td> \n",
       "</tr>\n",
       "</table><br/><br/>Notes:<br/>[1] Standard Errors assume that the covariance matrix of the errors is correctly specified."
      ],
      "text/plain": [
       "<class 'statsmodels.iolib.summary.Summary'>\n",
       "\"\"\"\n",
       "                            OLS Regression Results                            \n",
       "==============================================================================\n",
       "Dep. Variable:                   MEDV   R-squared:                       0.697\n",
       "Model:                            OLS   Adj. R-squared:                  0.694\n",
       "Method:                 Least Squares   F-statistic:                     229.6\n",
       "Date:                Tue, 11 Oct 2022   Prob (F-statistic):          5.72e-127\n",
       "Time:                        14:50:46   Log-Likelihood:                -1538.5\n",
       "No. Observations:                 506   AIC:                             3089.\n",
       "Df Residuals:                     500   BIC:                             3114.\n",
       "Df Model:                           5                                         \n",
       "Covariance Type:            nonrobust                                         \n",
       "==============================================================================\n",
       "                 coef    std err          t      P>|t|      [0.025      0.975]\n",
       "------------------------------------------------------------------------------\n",
       "Intercept     23.4669      4.053      5.790      0.000      15.504      31.429\n",
       "RM             4.1797      0.420      9.948      0.000       3.354       5.005\n",
       "CHAS           2.9225      0.910      3.212      0.001       1.135       4.710\n",
       "DIS           -0.4923      0.127     -3.871      0.000      -0.742      -0.242\n",
       "LSTAT         -0.6585      0.046    -14.198      0.000      -0.750      -0.567\n",
       "PTRATIO       -0.9322      0.116     -8.058      0.000      -1.159      -0.705\n",
       "==============================================================================\n",
       "Omnibus:                      150.602   Durbin-Watson:                   2.013\n",
       "Prob(Omnibus):                  0.000   Jarque-Bera (JB):              593.117\n",
       "Skew:                           1.302   Prob(JB):                    1.61e-129\n",
       "Kurtosis:                       7.621   Cond. No.                         432.\n",
       "==============================================================================\n",
       "\n",
       "Notes:\n",
       "[1] Standard Errors assume that the covariance matrix of the errors is correctly specified.\n",
       "\"\"\""
      ]
     },
     "execution_count": 20,
     "metadata": {},
     "output_type": "execute_result"
    }
   ],
   "source": [
    "price_model = smf.ols(\"MEDV ~ RM + CHAS + DIS + LSTAT + PTRATIO\", data= df_housing).fit()\n",
    "price_model.summary()"
   ]
  },
  {
   "cell_type": "code",
   "execution_count": 21,
   "metadata": {},
   "outputs": [
    {
     "data": {
      "text/plain": [
       "(37.38609424075417,\n",
       " 5.01140091830875e-07,\n",
       " 7.978016397140711,\n",
       " 3.003523495806835e-07)"
      ]
     },
     "execution_count": 21,
     "metadata": {},
     "output_type": "execute_result"
    }
   ],
   "source": [
    "from statsmodels.stats.diagnostic import het_breuschpagan\n",
    "het_breuschpagan(price_model.resid, price_model.model.exog)"
   ]
  },
  {
   "cell_type": "code",
   "execution_count": 32,
   "metadata": {},
   "outputs": [
    {
     "ename": "NameError",
     "evalue": "name 'price_model' is not defined",
     "output_type": "error",
     "traceback": [
      "\u001b[0;31m---------------------------------------------------------------------------\u001b[0m",
      "\u001b[0;31mNameError\u001b[0m                                 Traceback (most recent call last)",
      "\u001b[0;32m<ipython-input-32-657bb3a8cb12>\u001b[0m in \u001b[0;36m<module>\u001b[0;34m\u001b[0m\n\u001b[1;32m      1\u001b[0m \u001b[0;32mfrom\u001b[0m \u001b[0mstatsmodels\u001b[0m\u001b[0;34m.\u001b[0m\u001b[0mstats\u001b[0m\u001b[0;34m.\u001b[0m\u001b[0moutliers_influence\u001b[0m \u001b[0;32mimport\u001b[0m \u001b[0mvariance_inflation_factor\u001b[0m\u001b[0;34m\u001b[0m\u001b[0;34m\u001b[0m\u001b[0m\n\u001b[1;32m      2\u001b[0m \u001b[0;34m\u001b[0m\u001b[0m\n\u001b[0;32m----> 3\u001b[0;31m \u001b[0mvariables\u001b[0m \u001b[0;34m=\u001b[0m \u001b[0mprice_model\u001b[0m\u001b[0;34m.\u001b[0m\u001b[0mmodel\u001b[0m\u001b[0;34m.\u001b[0m\u001b[0mexog\u001b[0m\u001b[0;34m\u001b[0m\u001b[0;34m\u001b[0m\u001b[0m\n\u001b[0m\u001b[1;32m      4\u001b[0m \u001b[0mvif\u001b[0m \u001b[0;34m=\u001b[0m \u001b[0;34m[\u001b[0m\u001b[0mvariance_inflation_factor\u001b[0m\u001b[0;34m(\u001b[0m\u001b[0mvariables\u001b[0m\u001b[0;34m,\u001b[0m \u001b[0mi\u001b[0m\u001b[0;34m)\u001b[0m \u001b[0;32mfor\u001b[0m \u001b[0mi\u001b[0m \u001b[0;32min\u001b[0m \u001b[0mrange\u001b[0m\u001b[0;34m(\u001b[0m\u001b[0mvariables\u001b[0m\u001b[0;34m.\u001b[0m\u001b[0mshape\u001b[0m\u001b[0;34m[\u001b[0m\u001b[0;36m1\u001b[0m\u001b[0;34m]\u001b[0m\u001b[0;34m)\u001b[0m\u001b[0;34m]\u001b[0m\u001b[0;34m\u001b[0m\u001b[0;34m\u001b[0m\u001b[0m\n\u001b[1;32m      5\u001b[0m \u001b[0mvif\u001b[0m\u001b[0;34m\u001b[0m\u001b[0;34m\u001b[0m\u001b[0m\n",
      "\u001b[0;31mNameError\u001b[0m: name 'price_model' is not defined"
     ]
    }
   ],
   "source": [
    "from statsmodels.stats.outliers_influence import variance_inflation_factor\n",
    "\n",
    "variables = price_model.model.exog\n",
    "vif = [variance_inflation_factor(variables, i) for i in range(variables.shape[1])]\n",
    "vif \n"
   ]
  },
  {
   "cell_type": "code",
   "execution_count": 30,
   "metadata": {},
   "outputs": [
    {
     "data": {
      "text/html": [
       "<table class=\"simpletable\">\n",
       "<caption>OLS Regression Results</caption>\n",
       "<tr>\n",
       "  <th>Dep. Variable:</th>      <td>np.log(MEDV)</td>   <th>  R-squared:         </th> <td>   0.687</td> \n",
       "</tr>\n",
       "<tr>\n",
       "  <th>Model:</th>                   <td>OLS</td>       <th>  Adj. R-squared:    </th> <td>   0.686</td> \n",
       "</tr>\n",
       "<tr>\n",
       "  <th>Method:</th>             <td>Least Squares</td>  <th>  F-statistic:       </th> <td>   408.7</td> \n",
       "</tr>\n",
       "<tr>\n",
       "  <th>Date:</th>             <td>Tue, 11 Oct 2022</td> <th>  Prob (F-statistic):</th> <td>3.83e-106</td>\n",
       "</tr>\n",
       "<tr>\n",
       "  <th>Time:</th>                 <td>15:04:20</td>     <th>  Log-Likelihood:    </th> <td>  29.013</td> \n",
       "</tr>\n",
       "<tr>\n",
       "  <th>No. Observations:</th>      <td>   506</td>      <th>  AIC:               </th> <td>  -52.03</td> \n",
       "</tr>\n",
       "<tr>\n",
       "  <th>Df Residuals:</th>          <td>   503</td>      <th>  BIC:               </th> <td>  -39.35</td> \n",
       "</tr>\n",
       "<tr>\n",
       "  <th>Df Model:</th>              <td>     2</td>      <th>                     </th>     <td> </td>    \n",
       "</tr>\n",
       "<tr>\n",
       "  <th>Covariance Type:</th>         <td>HC1</td>       <th>                     </th>     <td> </td>    \n",
       "</tr>\n",
       "</table>\n",
       "<table class=\"simpletable\">\n",
       "<tr>\n",
       "        <td></td>           <th>coef</th>     <th>std err</th>      <th>z</th>      <th>P>|z|</th>  <th>[0.025</th>    <th>0.975]</th>  \n",
       "</tr>\n",
       "<tr>\n",
       "  <th>Intercept</th>     <td>    3.3626</td> <td>    0.345</td> <td>    9.752</td> <td> 0.000</td> <td>    2.687</td> <td>    4.038</td>\n",
       "</tr>\n",
       "<tr>\n",
       "  <th>np.log(RM)</th>    <td>    0.4712</td> <td>    0.160</td> <td>    2.945</td> <td> 0.003</td> <td>    0.158</td> <td>    0.785</td>\n",
       "</tr>\n",
       "<tr>\n",
       "  <th>np.log(LSTAT)</th> <td>   -0.5025</td> <td>    0.029</td> <td>  -17.404</td> <td> 0.000</td> <td>   -0.559</td> <td>   -0.446</td>\n",
       "</tr>\n",
       "</table>\n",
       "<table class=\"simpletable\">\n",
       "<tr>\n",
       "  <th>Omnibus:</th>       <td>33.363</td> <th>  Durbin-Watson:     </th> <td>   1.699</td>\n",
       "</tr>\n",
       "<tr>\n",
       "  <th>Prob(Omnibus):</th> <td> 0.000</td> <th>  Jarque-Bera (JB):  </th> <td>  85.739</td>\n",
       "</tr>\n",
       "<tr>\n",
       "  <th>Skew:</th>          <td>-0.302</td> <th>  Prob(JB):          </th> <td>2.41e-19</td>\n",
       "</tr>\n",
       "<tr>\n",
       "  <th>Kurtosis:</th>      <td> 4.924</td> <th>  Cond. No.          </th> <td>    88.6</td>\n",
       "</tr>\n",
       "</table><br/><br/>Notes:<br/>[1] Standard Errors are heteroscedasticity robust (HC1)"
      ],
      "text/plain": [
       "<class 'statsmodels.iolib.summary.Summary'>\n",
       "\"\"\"\n",
       "                            OLS Regression Results                            \n",
       "==============================================================================\n",
       "Dep. Variable:           np.log(MEDV)   R-squared:                       0.687\n",
       "Model:                            OLS   Adj. R-squared:                  0.686\n",
       "Method:                 Least Squares   F-statistic:                     408.7\n",
       "Date:                Tue, 11 Oct 2022   Prob (F-statistic):          3.83e-106\n",
       "Time:                        15:04:20   Log-Likelihood:                 29.013\n",
       "No. Observations:                 506   AIC:                            -52.03\n",
       "Df Residuals:                     503   BIC:                            -39.35\n",
       "Df Model:                           2                                         \n",
       "Covariance Type:                  HC1                                         \n",
       "=================================================================================\n",
       "                    coef    std err          z      P>|z|      [0.025      0.975]\n",
       "---------------------------------------------------------------------------------\n",
       "Intercept         3.3626      0.345      9.752      0.000       2.687       4.038\n",
       "np.log(RM)        0.4712      0.160      2.945      0.003       0.158       0.785\n",
       "np.log(LSTAT)    -0.5025      0.029    -17.404      0.000      -0.559      -0.446\n",
       "==============================================================================\n",
       "Omnibus:                       33.363   Durbin-Watson:                   1.699\n",
       "Prob(Omnibus):                  0.000   Jarque-Bera (JB):               85.739\n",
       "Skew:                          -0.302   Prob(JB):                     2.41e-19\n",
       "Kurtosis:                       4.924   Cond. No.                         88.6\n",
       "==============================================================================\n",
       "\n",
       "Notes:\n",
       "[1] Standard Errors are heteroscedasticity robust (HC1)\n",
       "\"\"\""
      ]
     },
     "execution_count": 30,
     "metadata": {},
     "output_type": "execute_result"
    }
   ],
   "source": [
    "price_model2 = smf.ols(\"np.log(MEDV) ~ np.log(RM) + np.log(LSTAT)\", data= df_housing).fit()\n",
    "price_model2.summary()"
   ]
  },
  {
   "cell_type": "code",
   "execution_count": 31,
   "metadata": {},
   "outputs": [
    {
     "data": {
      "text/plain": [
       "(27.954748570159893,\n",
       " 8.505571045129599e-07,\n",
       " 14.707016217327824,\n",
       " 6.202984133189124e-07)"
      ]
     },
     "execution_count": 31,
     "metadata": {},
     "output_type": "execute_result"
    }
   ],
   "source": [
    "from statsmodels.stats.diagnostic import het_breuschpagan\n",
    "het_breuschpagan(price_model2.resid, price_model2.model.exog)"
   ]
  },
  {
   "cell_type": "code",
   "execution_count": 21,
   "metadata": {},
   "outputs": [
    {
     "data": {
      "text/plain": [
       "Text(0.5, 1.0, 'Crime Model Residuals Probability Plot')"
      ]
     },
     "execution_count": 21,
     "metadata": {},
     "output_type": "execute_result"
    },
    {
     "data": {
      "image/png": "[encoded data removed]",
      "text/plain": [
       "<Figure size 432x288 with 1 Axes>"
      ]
     },
     "metadata": {},
     "output_type": "display_data"
    }
   ],
   "source": [
    "stats.probplot(crim_model.resid, plot= plt)\n",
    "plt.title(\"Crime Model Residuals Probability Plot\")"
   ]
  },
  {
   "cell_type": "code",
   "execution_count": 22,
   "metadata": {},
   "outputs": [
    {
     "data": {
      "text/plain": [
       "Text(0.5, 1.0, 'Price Model Residuals Probability Plot')"
      ]
     },
     "execution_count": 22,
     "metadata": {},
     "output_type": "execute_result"
    },
    {
     "data": {
      "image/png": "[encoded data removed]",
      "text/plain": [
       "<Figure size 432x288 with 1 Axes>"
      ]
     },
     "metadata": {},
     "output_type": "display_data"
    }
   ],
   "source": [
    "stats.probplot(price_model.resid, plot= plt)\n",
    "plt.title(\"Price Model Residuals Probability Plot\")"
   ]
  },
  {
   "cell_type": "code",
   "execution_count": 24,
   "metadata": {},
   "outputs": [],
   "source": [
    "DataX = df_housing[['RM','CHAS','DIS','LSTAT','PTRATIO']]"
   ]
  },
  {
   "cell_type": "code",
   "execution_count": 37,
   "metadata": {},
   "outputs": [
    {
     "data": {
      "text/html": [
       "<div>\n",
       "<style scoped>\n",
       "    .dataframe tbody tr th:only-of-type {\n",
       "        vertical-align: middle;\n",
       "    }\n",
       "\n",
       "    .dataframe tbody tr th {\n",
       "        vertical-align: top;\n",
       "    }\n",
       "\n",
       "    .dataframe thead th {\n",
       "        text-align: right;\n",
       "    }\n",
       "</style>\n",
       "<table border=\"1\" class=\"dataframe\">\n",
       "  <thead>\n",
       "    <tr style=\"text-align: right;\">\n",
       "      <th></th>\n",
       "      <th>CRIM</th>\n",
       "      <th>ZN</th>\n",
       "      <th>INDUS</th>\n",
       "      <th>CHAS</th>\n",
       "      <th>NOX</th>\n",
       "      <th>RM</th>\n",
       "      <th>AGE</th>\n",
       "      <th>DIS</th>\n",
       "      <th>RAD</th>\n",
       "      <th>TAX</th>\n",
       "      <th>PTRATIO</th>\n",
       "      <th>LSTAT</th>\n",
       "      <th>MEDV</th>\n",
       "      <th>CAT. MEDV</th>\n",
       "      <th>High_median_value</th>\n",
       "    </tr>\n",
       "  </thead>\n",
       "  <tbody>\n",
       "    <tr>\n",
       "      <th>0</th>\n",
       "      <td>0.00632</td>\n",
       "      <td>18.0</td>\n",
       "      <td>2.31</td>\n",
       "      <td>0</td>\n",
       "      <td>0.538</td>\n",
       "      <td>6.575</td>\n",
       "      <td>65.2</td>\n",
       "      <td>4.0900</td>\n",
       "      <td>1</td>\n",
       "      <td>296</td>\n",
       "      <td>15.3</td>\n",
       "      <td>4.98</td>\n",
       "      <td>24.0</td>\n",
       "      <td>0</td>\n",
       "      <td>1</td>\n",
       "    </tr>\n",
       "    <tr>\n",
       "      <th>1</th>\n",
       "      <td>0.00906</td>\n",
       "      <td>90.0</td>\n",
       "      <td>2.97</td>\n",
       "      <td>0</td>\n",
       "      <td>0.400</td>\n",
       "      <td>7.088</td>\n",
       "      <td>20.8</td>\n",
       "      <td>7.3073</td>\n",
       "      <td>1</td>\n",
       "      <td>285</td>\n",
       "      <td>15.3</td>\n",
       "      <td>7.85</td>\n",
       "      <td>32.2</td>\n",
       "      <td>1</td>\n",
       "      <td>1</td>\n",
       "    </tr>\n",
       "    <tr>\n",
       "      <th>2</th>\n",
       "      <td>0.01096</td>\n",
       "      <td>55.0</td>\n",
       "      <td>2.25</td>\n",
       "      <td>0</td>\n",
       "      <td>0.389</td>\n",
       "      <td>6.453</td>\n",
       "      <td>31.9</td>\n",
       "      <td>7.3073</td>\n",
       "      <td>1</td>\n",
       "      <td>300</td>\n",
       "      <td>15.3</td>\n",
       "      <td>8.23</td>\n",
       "      <td>22.0</td>\n",
       "      <td>0</td>\n",
       "      <td>1</td>\n",
       "    </tr>\n",
       "    <tr>\n",
       "      <th>3</th>\n",
       "      <td>0.01301</td>\n",
       "      <td>35.0</td>\n",
       "      <td>1.52</td>\n",
       "      <td>0</td>\n",
       "      <td>0.442</td>\n",
       "      <td>7.241</td>\n",
       "      <td>49.3</td>\n",
       "      <td>7.0379</td>\n",
       "      <td>1</td>\n",
       "      <td>284</td>\n",
       "      <td>15.5</td>\n",
       "      <td>5.49</td>\n",
       "      <td>32.7</td>\n",
       "      <td>1</td>\n",
       "      <td>1</td>\n",
       "    </tr>\n",
       "    <tr>\n",
       "      <th>4</th>\n",
       "      <td>0.01311</td>\n",
       "      <td>90.0</td>\n",
       "      <td>1.22</td>\n",
       "      <td>0</td>\n",
       "      <td>0.403</td>\n",
       "      <td>7.249</td>\n",
       "      <td>21.9</td>\n",
       "      <td>8.6966</td>\n",
       "      <td>5</td>\n",
       "      <td>226</td>\n",
       "      <td>17.9</td>\n",
       "      <td>4.81</td>\n",
       "      <td>35.4</td>\n",
       "      <td>1</td>\n",
       "      <td>1</td>\n",
       "    </tr>\n",
       "    <tr>\n",
       "      <th>5</th>\n",
       "      <td>0.01360</td>\n",
       "      <td>75.0</td>\n",
       "      <td>4.00</td>\n",
       "      <td>0</td>\n",
       "      <td>0.410</td>\n",
       "      <td>5.888</td>\n",
       "      <td>47.6</td>\n",
       "      <td>7.3197</td>\n",
       "      <td>3</td>\n",
       "      <td>469</td>\n",
       "      <td>21.1</td>\n",
       "      <td>14.80</td>\n",
       "      <td>18.9</td>\n",
       "      <td>0</td>\n",
       "      <td>0</td>\n",
       "    </tr>\n",
       "    <tr>\n",
       "      <th>6</th>\n",
       "      <td>0.01381</td>\n",
       "      <td>80.0</td>\n",
       "      <td>0.46</td>\n",
       "      <td>0</td>\n",
       "      <td>0.422</td>\n",
       "      <td>7.875</td>\n",
       "      <td>32.0</td>\n",
       "      <td>5.6484</td>\n",
       "      <td>4</td>\n",
       "      <td>255</td>\n",
       "      <td>14.4</td>\n",
       "      <td>2.97</td>\n",
       "      <td>50.0</td>\n",
       "      <td>1</td>\n",
       "      <td>1</td>\n",
       "    </tr>\n",
       "    <tr>\n",
       "      <th>7</th>\n",
       "      <td>0.01432</td>\n",
       "      <td>100.0</td>\n",
       "      <td>1.32</td>\n",
       "      <td>0</td>\n",
       "      <td>0.411</td>\n",
       "      <td>6.816</td>\n",
       "      <td>40.5</td>\n",
       "      <td>8.3248</td>\n",
       "      <td>5</td>\n",
       "      <td>256</td>\n",
       "      <td>15.1</td>\n",
       "      <td>3.95</td>\n",
       "      <td>31.6</td>\n",
       "      <td>1</td>\n",
       "      <td>1</td>\n",
       "    </tr>\n",
       "    <tr>\n",
       "      <th>8</th>\n",
       "      <td>0.01439</td>\n",
       "      <td>60.0</td>\n",
       "      <td>2.93</td>\n",
       "      <td>0</td>\n",
       "      <td>0.401</td>\n",
       "      <td>6.604</td>\n",
       "      <td>18.8</td>\n",
       "      <td>6.2196</td>\n",
       "      <td>1</td>\n",
       "      <td>265</td>\n",
       "      <td>15.6</td>\n",
       "      <td>4.38</td>\n",
       "      <td>29.1</td>\n",
       "      <td>0</td>\n",
       "      <td>1</td>\n",
       "    </tr>\n",
       "    <tr>\n",
       "      <th>9</th>\n",
       "      <td>0.01501</td>\n",
       "      <td>90.0</td>\n",
       "      <td>1.21</td>\n",
       "      <td>1</td>\n",
       "      <td>0.401</td>\n",
       "      <td>7.923</td>\n",
       "      <td>24.8</td>\n",
       "      <td>5.8850</td>\n",
       "      <td>1</td>\n",
       "      <td>198</td>\n",
       "      <td>13.6</td>\n",
       "      <td>3.16</td>\n",
       "      <td>50.0</td>\n",
       "      <td>1</td>\n",
       "      <td>1</td>\n",
       "    </tr>\n",
       "  </tbody>\n",
       "</table>\n",
       "</div>"
      ],
      "text/plain": [
       "      CRIM     ZN  INDUS  CHAS    NOX     RM   AGE     DIS  RAD  TAX  PTRATIO  \\\n",
       "0  0.00632   18.0   2.31     0  0.538  6.575  65.2  4.0900    1  296     15.3   \n",
       "1  0.00906   90.0   2.97     0  0.400  7.088  20.8  7.3073    1  285     15.3   \n",
       "2  0.01096   55.0   2.25     0  0.389  6.453  31.9  7.3073    1  300     15.3   \n",
       "3  0.01301   35.0   1.52     0  0.442  7.241  49.3  7.0379    1  284     15.5   \n",
       "4  0.01311   90.0   1.22     0  0.403  7.249  21.9  8.6966    5  226     17.9   \n",
       "5  0.01360   75.0   4.00     0  0.410  5.888  47.6  7.3197    3  469     21.1   \n",
       "6  0.01381   80.0   0.46     0  0.422  7.875  32.0  5.6484    4  255     14.4   \n",
       "7  0.01432  100.0   1.32     0  0.411  6.816  40.5  8.3248    5  256     15.1   \n",
       "8  0.01439   60.0   2.93     0  0.401  6.604  18.8  6.2196    1  265     15.6   \n",
       "9  0.01501   90.0   1.21     1  0.401  7.923  24.8  5.8850    1  198     13.6   \n",
       "\n",
       "   LSTAT  MEDV  CAT. MEDV  High_median_value  \n",
       "0   4.98  24.0          0                  1  \n",
       "1   7.85  32.2          1                  1  \n",
       "2   8.23  22.0          0                  1  \n",
       "3   5.49  32.7          1                  1  \n",
       "4   4.81  35.4          1                  1  \n",
       "5  14.80  18.9          0                  0  \n",
       "6   2.97  50.0          1                  1  \n",
       "7   3.95  31.6          1                  1  \n",
       "8   4.38  29.1          0                  1  \n",
       "9   3.16  50.0          1                  1  "
      ]
     },
     "execution_count": 37,
     "metadata": {},
     "output_type": "execute_result"
    }
   ],
   "source": [
    "df_housing['High_median_value'] = np.where(df_housing['MEDV']>=21.2, 1, 0)\n",
    "df_housing.head(10)"
   ]
  },
  {
   "cell_type": "code",
   "execution_count": 38,
   "metadata": {},
   "outputs": [],
   "source": [
    "DataY = df_housing['High_median_value']"
   ]
  },
  {
   "cell_type": "code",
   "execution_count": 39,
   "metadata": {},
   "outputs": [
    {
     "data": {
      "text/html": [
       "<div>\n",
       "<style scoped>\n",
       "    .dataframe tbody tr th:only-of-type {\n",
       "        vertical-align: middle;\n",
       "    }\n",
       "\n",
       "    .dataframe tbody tr th {\n",
       "        vertical-align: top;\n",
       "    }\n",
       "\n",
       "    .dataframe thead th {\n",
       "        text-align: right;\n",
       "    }\n",
       "</style>\n",
       "<table border=\"1\" class=\"dataframe\">\n",
       "  <thead>\n",
       "    <tr style=\"text-align: right;\">\n",
       "      <th></th>\n",
       "      <th>RM</th>\n",
       "      <th>CHAS</th>\n",
       "      <th>DIS</th>\n",
       "      <th>LSTAT</th>\n",
       "      <th>PTRATIO</th>\n",
       "    </tr>\n",
       "  </thead>\n",
       "  <tbody>\n",
       "    <tr>\n",
       "      <th>0</th>\n",
       "      <td>6.575</td>\n",
       "      <td>0</td>\n",
       "      <td>4.0900</td>\n",
       "      <td>4.98</td>\n",
       "      <td>15.3</td>\n",
       "    </tr>\n",
       "    <tr>\n",
       "      <th>1</th>\n",
       "      <td>7.088</td>\n",
       "      <td>0</td>\n",
       "      <td>7.3073</td>\n",
       "      <td>7.85</td>\n",
       "      <td>15.3</td>\n",
       "    </tr>\n",
       "    <tr>\n",
       "      <th>2</th>\n",
       "      <td>6.453</td>\n",
       "      <td>0</td>\n",
       "      <td>7.3073</td>\n",
       "      <td>8.23</td>\n",
       "      <td>15.3</td>\n",
       "    </tr>\n",
       "  </tbody>\n",
       "</table>\n",
       "</div>"
      ],
      "text/plain": [
       "      RM  CHAS     DIS  LSTAT  PTRATIO\n",
       "0  6.575     0  4.0900   4.98     15.3\n",
       "1  7.088     0  7.3073   7.85     15.3\n",
       "2  6.453     0  7.3073   8.23     15.3"
      ]
     },
     "execution_count": 39,
     "metadata": {},
     "output_type": "execute_result"
    }
   ],
   "source": [
    "DataX.head(3)"
   ]
  },
  {
   "cell_type": "code",
   "execution_count": 40,
   "metadata": {},
   "outputs": [
    {
     "data": {
      "text/plain": [
       "0    1\n",
       "1    1\n",
       "2    1\n",
       "Name: High_median_value, dtype: int64"
      ]
     },
     "execution_count": 40,
     "metadata": {},
     "output_type": "execute_result"
    }
   ],
   "source": [
    "DataY.head(3)"
   ]
  },
  {
   "cell_type": "code",
   "execution_count": 42,
   "metadata": {},
   "outputs": [
    {
     "data": {
      "text/plain": [
       "LogisticRegression()"
      ]
     },
     "execution_count": 42,
     "metadata": {},
     "output_type": "execute_result"
    }
   ],
   "source": [
    "from sklearn.linear_model import LogisticRegression\n",
    "from sklearn.model_selection import train_test_split  \n",
    "from sklearn import metrics\n",
    "\n",
    "X_train, X_test, Y_train, Y_test = train_test_split(DataX, DataY, test_size=0.3, random_state=0)\n",
    "logisticreg = LogisticRegression(solver='lbfgs')\n",
    "logisticreg.fit(X_train, np.ravel(Y_train))"
   ]
  },
  {
   "cell_type": "code",
   "execution_count": 43,
   "metadata": {},
   "outputs": [
    {
     "name": "stdout",
     "output_type": "stream",
     "text": [
      "Accuracy of logistic regression classifier on test set: 0.85\n"
     ]
    }
   ],
   "source": [
    "Y_pred = logisticreg.predict(X_test)\n",
    "print('Accuracy of logistic regression classifier on test set: {:.2f}'.format(logisticreg.score(X_test, Y_test)))"
   ]
  },
  {
   "cell_type": "code",
   "execution_count": 44,
   "metadata": {},
   "outputs": [
    {
     "name": "stdout",
     "output_type": "stream",
     "text": [
      "[[61 12]\n",
      " [11 68]]\n"
     ]
    }
   ],
   "source": [
    "from sklearn.metrics import confusion_matrix\n",
    "confusion_matrix = confusion_matrix(Y_test, Y_pred)\n",
    "print(confusion_matrix)"
   ]
  },
  {
   "cell_type": "markdown",
   "metadata": {},
   "source": [
    "Correct predictions = 61 + 68 Errors = 11 + 12\n",
    "\n",
    "129 / (129+23) = 0.85 (Where did we just see this number?)\n"
   ]
  },
  {
   "cell_type": "code",
   "execution_count": 46,
   "metadata": {},
   "outputs": [
    {
     "data": {
      "text/plain": [
       "array([[ 1.36568326,  1.38753058, -0.16751412, -0.33473708, -0.39313235]])"
      ]
     },
     "execution_count": 46,
     "metadata": {},
     "output_type": "execute_result"
    }
   ],
   "source": [
    "logisticreg.coef_"
   ]
  },
  {
   "cell_type": "code",
   "execution_count": 47,
   "metadata": {},
   "outputs": [
    {
     "data": {
      "text/plain": [
       "array([3.48094677])"
      ]
     },
     "execution_count": 47,
     "metadata": {},
     "output_type": "execute_result"
    }
   ],
   "source": [
    "logisticreg.intercept_"
   ]
  },
  {
   "cell_type": "code",
   "execution_count": 48,
   "metadata": {},
   "outputs": [
    {
     "data": {
      "text/plain": [
       "3.9184650177051523"
      ]
     },
     "execution_count": 48,
     "metadata": {},
     "output_type": "execute_result"
    }
   ],
   "source": [
    "np.exp(1.3657) #'RM'"
   ]
  },
  {
   "cell_type": "code",
   "execution_count": 49,
   "metadata": {},
   "outputs": [
    {
     "data": {
      "text/plain": [
       "4.002823551607174"
      ]
     },
     "execution_count": 49,
     "metadata": {},
     "output_type": "execute_result"
    }
   ],
   "source": [
    "np.exp(1.387) #'CHAS'"
   ]
  },
  {
   "cell_type": "code",
   "execution_count": 50,
   "metadata": {},
   "outputs": [
    {
     "data": {
      "text/plain": [
       "0.8457766172888441"
      ]
     },
     "execution_count": 50,
     "metadata": {},
     "output_type": "execute_result"
    }
   ],
   "source": [
    "np.exp(-0.1675) #'DIS'"
   ]
  },
  {
   "cell_type": "code",
   "execution_count": 51,
   "metadata": {},
   "outputs": [
    {
     "data": {
      "text/plain": [
       "0.7155527199718988"
      ]
     },
     "execution_count": 51,
     "metadata": {},
     "output_type": "execute_result"
    }
   ],
   "source": [
    "np.exp(-0.3347) #'LSTAT'"
   ]
  },
  {
   "cell_type": "code",
   "execution_count": 52,
   "metadata": {},
   "outputs": [
    {
     "data": {
      "text/plain": [
       "0.6750287475861332"
      ]
     },
     "execution_count": 52,
     "metadata": {},
     "output_type": "execute_result"
    }
   ],
   "source": [
    "np.exp(-0.393) #'PTRATIO'"
   ]
  },
  {
   "cell_type": "code",
   "execution_count": null,
   "metadata": {},
   "outputs": [],
   "source": []
  }
 ],
 "metadata": {
  "kernelspec": {
   "display_name": "Python 3 (ipykernel)",
   "language": "python",
   "name": "python3"
  },
  "language_info": {
   "codemirror_mode": {
    "name": "ipython",
    "version": 3
   },
   "file_extension": ".py",
   "mimetype": "text/x-python",
   "name": "python",
   "nbconvert_exporter": "python",
   "pygments_lexer": "ipython3",
   "version": "3.9.7"
  }
 },
 "nbformat": 4,
 "nbformat_minor": 2
}
